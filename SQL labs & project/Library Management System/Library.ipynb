{
 "cells": [
  {
   "cell_type": "markdown",
   "id": "0cf4123a",
   "metadata": {},
   "source": [
    "<center><h1><b>Project Title : Library Management System</b></h1></center>\n",
    "<h2><b>Purpose</b></h2>\n",
    "<i>The Library Management System (LMS) is an advanced software solution designed to automate and streamline library operations. Built with Python and MySQL, it efficiently manages books, authors, publishers, members, and transactions. The system ensures robust data handling, enhances operational efficiency, and offers a user-friendly interface. Key features include automation of routine tasks, scalability, and comprehensive data security. Additionally, the LMS supports insightful data analysis and visualization, making it an invaluable tool for modern libraries aiming to improve their management processes and user experience.</i>\n"
   ]
  },
  {
   "cell_type": "markdown",
   "id": "73c1f40f",
   "metadata": {},
   "source": [
    "####   Importing required libraries"
   ]
  },
  {
   "cell_type": "markdown",
   "id": "e21d1b24",
   "metadata": {},
   "source": [
    "!pip install pymysql\n",
    "!pip install mysql-connector-python\n",
    "!pip install pandas\n",
    "!pip install matplotlib"
   ]
  },
  {
   "cell_type": "markdown",
   "id": "32a36724",
   "metadata": {},
   "source": [
    "### step1: Connecting to MySQL database"
   ]
  },
  {
   "cell_type": "code",
   "execution_count": 4,
   "id": "a55aa679-0ab1-4ff6-b067-751f80bd7fa2",
   "metadata": {},
   "outputs": [
    {
     "name": "stdout",
     "output_type": "stream",
     "text": [
      "started\n",
      "Books Table:\n",
      "   BookID                     Title  AuthorID  PublisherID  Year  Copies  \\\n",
      "0       1       The Great Adventure         1            1  2000      10   \n",
      "1       2  Mystery of the Lost Keys         2            2  2001      12   \n",
      "2       3         The Secret Garden         3            3  2002       8   \n",
      "3       4        Midnight Moonlight         4            4  2003       5   \n",
      "4       5      Whispers in the Wind         5            5  2004      15   \n",
      "\n",
      "       Genre  \n",
      "0  Adventure  \n",
      "1    Mystery  \n",
      "2   Children  \n",
      "3    Romance  \n",
      "4      Drama  \n"
     ]
    }
   ],
   "source": [
    "\n",
    "import mysql.connector\n",
    "import pandas as pd\n",
    "import matplotlib.pyplot as plt\n",
    "\n",
    "# Connect to MySQL\n",
    "conn = mysql.connector.connect(\n",
    "    host=\"localhost\",\n",
    "    user=\"root\",\n",
    "    password=\"Test@123\",\n",
    "    database=\"library\"\n",
    ")\n",
    "\n",
    "print(\"started\")\n",
    "\n",
    "# Function to execute SQL query and return result as DataFrame\n",
    "def execute_query(query):\n",
    "    cursor = conn.cursor()\n",
    "    cursor.execute(query)\n",
    "    columns = [col[0] for col in cursor.description]\n",
    "    return pd.DataFrame(cursor.fetchall(), columns=columns)\n",
    "\n",
    "# Query to select all data from Books table\n",
    "books_query = \"SELECT * FROM Books\"\n",
    "# Execute queries and get DataFrames\n",
    "books_df = execute_query(books_query)\n",
    "\n",
    "# Display first few rows of each table\n",
    "print(\"Books Table:\")\n",
    "print(books_df.head())"
   ]
  },
  {
   "cell_type": "markdown",
   "id": "1b0f7597",
   "metadata": {},
   "source": [
    "#### step2: Importing tables from database"
   ]
  },
  {
   "cell_type": "markdown",
   "id": "796e688b",
   "metadata": {},
   "source": [
    "#### Authors Table"
   ]
  },
  {
   "cell_type": "code",
   "execution_count": 6,
   "id": "0aa5173d-f7ed-4821-8f71-264a7f3b5bb9",
   "metadata": {},
   "outputs": [
    {
     "name": "stdout",
     "output_type": "stream",
     "text": [
      "\n",
      "Authors Table:\n",
      "   AuthorID             Name                        Email       Phone  \\\n",
      "0         1         John Doe         john.doe@example.com  1234567890   \n",
      "1         2       Jane Smith       jane.smith@example.com  2345678901   \n",
      "2         3  Michael Johnson  michael.johnson@example.com  3456789012   \n",
      "3         4      Emily Brown      emily.brown@example.com  4567890123   \n",
      "4         5   David Williams   david.williams@example.com  5678901234   \n",
      "\n",
      "                        Address  \n",
      "0   123 First St, City, Country  \n",
      "1  456 Second St, City, Country  \n",
      "2   789 Third St, City, Country  \n",
      "3  101 Fourth St, City, Country  \n",
      "4   112 Fifth St, City, Country  \n"
     ]
    }
   ],
   "source": [
    "\n",
    "# Query to select all data from Authors table\n",
    "authors_query = \"SELECT * FROM Authors\"\n",
    "authors_df = execute_query(authors_query)\n",
    "\n",
    "print(\"\\nAuthors Table:\")\n",
    "print(authors_df.head())"
   ]
  },
  {
   "cell_type": "markdown",
   "id": "4af3622a",
   "metadata": {},
   "source": [
    "#### Publishers Table"
   ]
  },
  {
   "cell_type": "code",
   "execution_count": 7,
   "id": "3f3013c3-1e87-4e44-a833-fb1e491db719",
   "metadata": {},
   "outputs": [
    {
     "name": "stdout",
     "output_type": "stream",
     "text": [
      "\n",
      "Publishers Table:\n",
      "   PublisherID                       Name                         Email  \\\n",
      "0            1       Big Publishing House         info@bigpublisher.com   \n",
      "1            2       Small Publishing Co.    contact@smallpublisher.com   \n",
      "2            3          Global Books Ltd.       contact@globalbooks.com   \n",
      "3            4  Fantastic Publishers Inc.  info@fantasticpublishers.com   \n",
      "4            5       Creative Books Group     contact@creativebooks.com   \n",
      "\n",
      "        Phone                                Address  \n",
      "0  1234567890         123 Main St, Big City, Country  \n",
      "1  2345678901       456 Side St, Small Town, Country  \n",
      "2  3456789012      789 Broad St, Metropolis, Country  \n",
      "3  4567890123  101 Sunny Ave, Paradise City, Country  \n",
      "4  5678901234     112 Cloud Blvd, Dreamland, Country  \n"
     ]
    }
   ],
   "source": [
    "\n",
    "# Query to select all data from Publishers table\n",
    "publishers_query = \"SELECT * FROM Publishers\"\n",
    "publishers_df = execute_query(publishers_query)\n",
    "\n",
    "print(\"\\nPublishers Table:\")\n",
    "print(publishers_df.head())\n"
   ]
  },
  {
   "cell_type": "markdown",
   "id": "491053d6",
   "metadata": {},
   "source": [
    "#### Members Table"
   ]
  },
  {
   "cell_type": "code",
   "execution_count": 8,
   "id": "de7212d7-c323-4fba-8a8d-81693adbfb22",
   "metadata": {},
   "outputs": [
    {
     "name": "stdout",
     "output_type": "stream",
     "text": [
      "\n",
      "Members Table:\n",
      "   MemberID               Name                          Email       Phone  \\\n",
      "0         1      Alice Johnson      alice.johnson@example.com  1234567890   \n",
      "1         2       Bob Thompson       bob.thompson@example.com  2345678901   \n",
      "2         3  Catherine Roberts  catherine.roberts@example.com  3456789012   \n",
      "3         4       Daniel White       daniel.white@example.com  4567890123   \n",
      "4         5        Emily Davis        emily.davis@example.com  5678901234   \n",
      "\n",
      "                        Address  \n",
      "0   123 First St, City, Country  \n",
      "1  456 Second St, City, Country  \n",
      "2   789 Third St, City, Country  \n",
      "3  101 Fourth St, City, Country  \n",
      "4   112 Fifth St, City, Country  \n"
     ]
    }
   ],
   "source": [
    "# Query to select all data from Members table\n",
    "members_query = \"SELECT * FROM Members\"\n",
    "members_df = execute_query(members_query)\n",
    "\n",
    "print(\"\\nMembers Table:\")\n",
    "print(members_df.head())"
   ]
  },
  {
   "cell_type": "markdown",
   "id": "0630e271",
   "metadata": {},
   "source": [
    "#### Transactions Table"
   ]
  },
  {
   "cell_type": "code",
   "execution_count": 9,
   "id": "06ab5c6e-0330-46ab-afa4-383892e6e51e",
   "metadata": {},
   "outputs": [
    {
     "name": "stdout",
     "output_type": "stream",
     "text": [
      "\n",
      "Transactions Table:\n",
      "   TransactionID  BookID  MemberID   IssueDate  ReturnDate\n",
      "0              1       1         1  2024-06-01  2024-06-15\n",
      "1              2       2         2  2024-06-02  2024-06-16\n",
      "2              3       3         3  2024-06-03  2024-06-17\n",
      "3              4       4         4  2024-06-04  2024-06-18\n",
      "4              5       5         5  2024-06-05  2024-06-19\n"
     ]
    }
   ],
   "source": [
    "\n",
    "\n",
    "# Query to select all data from Transactions table\n",
    "transactions_query = \"SELECT * FROM Transactions\"\n",
    "transactions_df = execute_query(transactions_query)\n",
    "\n",
    "print(\"\\nTransactions Table:\")\n",
    "print(transactions_df.head())\n",
    "\n",
    "# Close the connection\n",
    "conn.close()"
   ]
  },
  {
   "cell_type": "markdown",
   "id": "8063e8ca",
   "metadata": {},
   "source": [
    "#### Visualizing the data"
   ]
  },
  {
   "cell_type": "code",
   "execution_count": 10,
   "id": "2c791360-ec4d-44fd-a8e1-7895ee5a5acc",
   "metadata": {
    "scrolled": true
   },
   "outputs": [
    {
     "data": {
      "image/png": "[encoded data removed]",
      "text/plain": [
       "<Figure size 1000x600 with 1 Axes>"
      ]
     },
     "metadata": {},
     "output_type": "display_data"
    }
   ],
   "source": [
    "\n",
    "# Analysis example: Plotting a histogram of book genres\n",
    "plt.figure(figsize=(10, 6))\n",
    "books_df['Genre'].value_counts().plot(kind='bar', color='skyblue')\n",
    "plt.title('Book Genres')\n",
    "plt.xlabel('Genre')\n",
    "plt.ylabel('Count')\n",
    "plt.xticks(rotation=45)\n",
    "plt.grid(axis='y', linestyle='--', alpha=0.7)\n",
    "plt.tight_layout()\n",
    "plt.show()"
   ]
  },
  {
   "cell_type": "markdown",
   "id": "427b9e58",
   "metadata": {},
   "source": [
    "#### Conclusion\n",
    "The Library Management System (LMS) represents a significant advancement in the management of library operations. By automating key tasks and ensuring accurate data handling, the LMS enhances the efficiency and effectiveness of library management. Its user-friendly interface, scalability, and robust features make it an essential tool for libraries seeking to improve their services and user experience. The LMS not only facilitates better organization and management but also enriches the overall library experience for both librarians and patrons, leading to a more efficient and user-friendly library environment."
   ]
  }
 ],
 "metadata": {
  "kernelspec": {
   "display_name": "Python 3 (ipykernel)",
   "language": "python",
   "name": "python3"
  },
  "language_info": {
   "codemirror_mode": {
    "name": "ipython",
    "version": 3
   },
   "file_extension": ".py",
   "mimetype": "text/x-python",
   "name": "python",
   "nbconvert_exporter": "python",
   "pygments_lexer": "ipython3",
   "version": "3.11.9"
  }
 },
 "nbformat": 4,
 "nbformat_minor": 5
}
